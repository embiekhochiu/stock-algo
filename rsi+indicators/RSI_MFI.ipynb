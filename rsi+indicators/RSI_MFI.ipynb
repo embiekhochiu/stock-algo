{
 "cells": [
  {
   "cell_type": "code",
   "execution_count": 1,
   "id": "a9ef1299-8f8a-451d-af30-6b125434fb90",
   "metadata": {},
   "outputs": [],
   "source": [
    "import vnstock as vn\n",
    "import ta\n",
    "import pandas as pd\n",
    "import matplotlib.pyplot as plt\n",
    "\n",
    "# Danh sách các mã cổ phiếu VN30\n",
    "companies = [\n",
    "    'SSI', 'BCM','VHM','VIC','VRE','BVH','POW','GAS','ACB','BID',\n",
    "'CTG','HDB','MBB','SSB','SHB','STB','TCB','TPB','VCB','VIB','VPB','HPG',\n",
    "'GVR','MSN','VNM','SAB','VJC','MWG','PLX','FPT']\n",
    "\n",
    "# Parameters\n",
    "RSI_PERIOD = 14\n",
    "MFI_PERIOD = 14\n",
    "RSI_OVERSOLD = 30\n",
    "RSI_OVERBOUGHT = 70\n",
    "MFI_OVERSOLD = 20\n",
    "MFI_OVERBOUGHT = 80\n",
    "initial_investment = 160_000_000"
   ]
  },
  {
   "cell_type": "code",
   "execution_count": 2,
   "id": "d0a9e5be-3f00-4c31-a36b-dffcab2f889d",
   "metadata": {},
   "outputs": [],
   "source": [
    "def calculate_indicators(df):\n",
    "    if df.empty:\n",
    "        return df\n",
    "    \n",
    "    # Calculate RSI\n",
    "    rsi = ta.momentum.RSIIndicator(df['close'], RSI_PERIOD)\n",
    "    df['RSI'] = rsi.rsi()\n",
    "    \n",
    "    # Calculate MFI\n",
    "    mfi = ta.volume.MFIIndicator(df['high'], df['low'], df['close'], df['volume'], MFI_PERIOD)\n",
    "    df['MFI'] = mfi.money_flow_index()\n",
    "    \n",
    "    df = df.dropna().reset_index(drop=True)\n",
    "    \n",
    "    return df"
   ]
  },
  {
   "cell_type": "code",
   "execution_count": 3,
   "id": "dd24257b-8f4f-4700-9280-d635c45c93dc",
   "metadata": {},
   "outputs": [],
   "source": [
    "def generate_signals(df):\n",
    "    if df.empty:\n",
    "        return df\n",
    "    \n",
    "    # Initialize Signal column\n",
    "    df['Signal'] = 0\n",
    "\n",
    "    # Define constants\n",
    "    MFI_OVERSOLD = 20\n",
    "    MFI_OVERBOUGHT = 80\n",
    "    RSI_OVERSOLD = 30\n",
    "    RSI_OVERBOUGHT = 70\n",
    "\n",
    "    # Buy signals: MFI exits oversold and RSI exits oversold\n",
    "    df.loc[(df['MFI'].shift(1) < MFI_OVERSOLD) & (df['MFI'] >= MFI_OVERSOLD) &\n",
    "           (df['RSI'].shift(1) < RSI_OVERSOLD) & (df['RSI'] >= RSI_OVERSOLD), 'Signal'] = 1\n",
    "\n",
    "    # Sell signals: MFI exits overbought and RSI exits overbought\n",
    "    df.loc[(df['MFI'].shift(1) > MFI_OVERBOUGHT) & (df['MFI'] <= MFI_OVERBOUGHT) &\n",
    "           (df['RSI'].shift(1) > RSI_OVERBOUGHT) & (df['RSI'] <= RSI_OVERBOUGHT), 'Signal'] = -1\n",
    "\n",
    "    return df\n"
   ]
  },
  {
   "cell_type": "code",
   "execution_count": 4,
   "id": "728cead3-8f63-493e-9ae3-f45e8bd402c4",
   "metadata": {},
   "outputs": [],
   "source": [
    "def backtest_strategy(df, initial_balance=160000000):\n",
    "    if df.empty:\n",
    "        return df\n",
    "    \n",
    "    balance = initial_balance\n",
    "    shares = 0\n",
    "    df['Portfolio Value'] = balance\n",
    "    df['Shares'] = 0\n",
    "\n",
    "\n",
    "    for i in range(1, len(df)):\n",
    "        if df['Signal'].iloc[i] == 1:  # Buy signal\n",
    "            if balance > 0: \n",
    "                shares_to_buy = balance // df['close'].iloc[i]\n",
    "                balance -= shares_to_buy * df['close'].iloc[i]\n",
    "                shares += shares_to_buy\n",
    "\n",
    "\n",
    "        elif df['Signal'].iloc[i] == -1 and shares > 0:  # Sell signal\n",
    "            balance += shares * df['close'].iloc[i]\n",
    "            shares = 0\n",
    "\n",
    "        df.loc[i, 'Portfolio Value'] = balance + shares * df['close'].iloc[i]\n",
    "        df.loc[i, 'Shares'] = shares\n",
    "\n",
    "    df.loc[len(df) - 1, 'Portfolio Value'] = balance + shares * df['close'].iloc[-1]\n",
    "\n",
    "    return df"
   ]
  },
  {
   "cell_type": "code",
   "execution_count": 5,
   "id": "7a7771e6-ea71-4b97-8b55-5a52bea6d78f",
   "metadata": {},
   "outputs": [],
   "source": [
    "def calculate_profit_total(df, initial_balance=160000000):\n",
    "    if df.empty:\n",
    "        return 0\n",
    "    final_balance = df['Portfolio Value'].iloc[-1] \n",
    "    total_change = ((final_balance - initial_balance)/initial_balance) * 100\n",
    "    return total_change"
   ]
  },
  {
   "cell_type": "code",
   "execution_count": 6,
   "id": "2a36a455-f5a7-4b3c-8614-99f5271584fa",
   "metadata": {},
   "outputs": [],
   "source": [
    "def test_company(symbol, start_date, end_date, resolution='1D', type='stock'):\n",
    "    df = vn.stock_historical_data(symbol=symbol, \n",
    "                            start_date=start_date, \n",
    "                            end_date=end_date, resolution=resolution, type=type)\n",
    "    if df.empty:\n",
    "        return 0 \n",
    "    df = calculate_indicators(df)\n",
    "    df = generate_signals(df)\n",
    "    df = backtest_strategy(df)\n",
    "    # visualize_results(df, symbol)\n",
    "    total_profit_change = calculate_profit_total(df, initial_balance=160000000)\n",
    "        \n",
    "    return total_profit_change"
   ]
  },
  {
   "cell_type": "code",
   "execution_count": 7,
   "id": "6865aaaf-6da8-4b96-bd7d-c283154adbaf",
   "metadata": {},
   "outputs": [],
   "source": [
    "START_DATE = '2021-01-01'\n",
    "END_DATE = '2024-01-01'"
   ]
  },
  {
   "cell_type": "code",
   "execution_count": 8,
   "id": "93fe643b-de83-4439-970c-dbacfcd877a1",
   "metadata": {},
   "outputs": [],
   "source": [
    "profit_all = {}\n",
    "\n",
    "for company in companies:\n",
    "    try:\n",
    "        company_data_all = test_company(company, start_date=START_DATE, end_date=END_DATE, resolution='1D', type='stock')\n",
    "       \n",
    "        # Update dictionaries\n",
    "        profit_all[company] = company_data_all\n",
    "\n",
    "    except Exception as e:\n",
    "        print(f\"Error occurred for {company}: {e}\")"
   ]
  },
  {
   "cell_type": "code",
   "execution_count": 9,
   "id": "275321cf",
   "metadata": {},
   "outputs": [],
   "source": [
    "profit_all_df = pd.DataFrame.from_dict(profit_all, orient='index', columns=['Profit During all period']).reset_index()\n",
    "final_result = profit_all_df.rename(columns={'index': 'Company'})\n",
    "final_result.to_csv('result/rsi_mfi.csv', index=False)"
   ]
  }
 ],
 "metadata": {
  "kernelspec": {
   "display_name": "Python 3 (ipykernel)",
   "language": "python",
   "name": "python3"
  },
  "language_info": {
   "codemirror_mode": {
    "name": "ipython",
    "version": 3
   },
   "file_extension": ".py",
   "mimetype": "text/x-python",
   "name": "python",
   "nbconvert_exporter": "python",
   "pygments_lexer": "ipython3",
   "version": "3.12.4"
  }
 },
 "nbformat": 4,
 "nbformat_minor": 5
}
