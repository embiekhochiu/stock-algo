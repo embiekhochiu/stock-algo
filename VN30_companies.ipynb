{
 "cells": [
  {
   "cell_type": "code",
   "execution_count": 2,
   "metadata": {},
   "outputs": [],
   "source": [
    "import numpy as np\n",
    "import pandas as pd\n",
    "from pandas.tseries.offsets import BDay\n",
    "import ta\n",
    "import matplotlib.pyplot as plt\n",
    "import vnstock as vn\n",
    "from datetime import timedelta"
   ]
  },
  {
   "cell_type": "code",
   "execution_count": 3,
   "metadata": {},
   "outputs": [],
   "source": [
    "VN30_list = vn.listing_companies()\n",
    "VN30_list = VN30_list['ticker'].loc[VN30_list['VN30'] == True].to_list()"
   ]
  },
  {
   "cell_type": "code",
   "execution_count": 4,
   "metadata": {},
   "outputs": [
    {
     "data": {
      "text/plain": [
       "['SSI',\n",
       " 'BCM',\n",
       " 'VHM',\n",
       " 'VIC',\n",
       " 'VRE',\n",
       " 'BVH',\n",
       " 'POW',\n",
       " 'GAS',\n",
       " 'ACB',\n",
       " 'BID',\n",
       " 'CTG',\n",
       " 'HDB',\n",
       " 'MBB',\n",
       " 'SSB',\n",
       " 'SHB',\n",
       " 'STB',\n",
       " 'TCB',\n",
       " 'TPB',\n",
       " 'VCB',\n",
       " 'VIB',\n",
       " 'VPB',\n",
       " 'HPG',\n",
       " 'GVR',\n",
       " 'MSN',\n",
       " 'VNM',\n",
       " 'SAB',\n",
       " 'VJC',\n",
       " 'MWG',\n",
       " 'PLX',\n",
       " 'FPT']"
      ]
     },
     "execution_count": 4,
     "metadata": {},
     "output_type": "execute_result"
    }
   ],
   "source": [
    "VN30_list"
   ]
  }
 ],
 "metadata": {
  "kernelspec": {
   "display_name": "venv",
   "language": "python",
   "name": "python3"
  },
  "language_info": {
   "codemirror_mode": {
    "name": "ipython",
    "version": 3
   },
   "file_extension": ".py",
   "mimetype": "text/x-python",
   "name": "python",
   "nbconvert_exporter": "python",
   "pygments_lexer": "ipython3",
   "version": "3.12.4"
  }
 },
 "nbformat": 4,
 "nbformat_minor": 2
}
