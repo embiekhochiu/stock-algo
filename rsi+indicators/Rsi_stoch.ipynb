{
 "cells": [
  {
   "cell_type": "code",
   "execution_count": 23,
   "id": "b4bbe6ca-9a15-4cb5-bcc9-7a14b8b33e18",
   "metadata": {},
   "outputs": [],
   "source": [
    "#Stochastic Oscillator"
   ]
  },
  {
   "cell_type": "code",
   "execution_count": 24,
   "id": "049a1eff-2d70-4d4e-8223-c048fc74ef8e",
   "metadata": {},
   "outputs": [],
   "source": [
    "import numpy as np\n",
    "import pandas as pd\n",
    "import ta\n",
    "import matplotlib.pyplot as plt\n",
    "import vnstock as vn\n",
    "\n",
    "companies =[\n",
    "    'SSI', 'BCM','VHM','VIC','VRE','BVH','POW','GAS','ACB','BID',\n",
    "'CTG','HDB','MBB','SSB','SHB','STB','TCB','TPB','VCB','VIB','VPB','HPG',\n",
    "'GVR','MSN','VNM','SAB','VJC','MWG','PLX','FPT']"
   ]
  },
  {
   "cell_type": "code",
   "execution_count": 25,
   "id": "c238c6e8-8612-4bd6-9ea6-215f06148f3c",
   "metadata": {},
   "outputs": [],
   "source": [
    "# Parameters \n",
    "RSI_PERIOD = 14\n",
    "RSI_OVERSOLD = 30\n",
    "RSI_OVERBOUGHT = 70\n",
    "STOCH_PERIOD = 14\n",
    "STOCH_OVERSOLD = 20\n",
    "STOCH_OVERBOUGHT = 80\n",
    "initial_investment = 160_000_000"
   ]
  },
  {
   "cell_type": "code",
   "execution_count": 26,
   "id": "618302ba-cd32-445c-8216-9d56f1096a77",
   "metadata": {},
   "outputs": [],
   "source": [
    "def calculate_indicators(df):\n",
    "    if df.empty:\n",
    "        return df\n",
    "    \n",
    "    df['RSI'] = ta.momentum.RSIIndicator(df['close'], RSI_PERIOD).rsi()\n",
    "    \n",
    "    # Calculate Stochastic Oscillator\n",
    "    stoch = ta.momentum.StochasticOscillator(df['high'], df['low'], df['close'], STOCH_PERIOD)\n",
    "    df['%K'] = stoch.stoch()\n",
    "    df['%D'] = stoch.stoch_signal()\n",
    "\n",
    "    df = df.dropna().reset_index(drop=True)\n",
    "    \n",
    "    return df"
   ]
  },
  {
   "cell_type": "code",
   "execution_count": 27,
   "id": "57dc58aa-af13-45d0-b850-ea76714400d4",
   "metadata": {},
   "outputs": [],
   "source": [
    "def generate_signals(df):\n",
    "    if df.empty:\n",
    "        return df\n",
    "    \n",
    "    # Initialize Signal column\n",
    "    df['Signal'] = 0\n",
    "\n",
    "    # Define constants\n",
    "    RSI_OVERSOLD = 30\n",
    "    RSI_OVERBOUGHT = 70\n",
    "    STOCH_OVERSOLD = 20\n",
    "    STOCH_OVERBOUGHT = 80\n",
    "\n",
    "    # Buy signals: RSI in oversold and %K above %D in oversold region\n",
    "    df.loc[(df['RSI'] < RSI_OVERSOLD) & \n",
    "           (df['%K'] < STOCH_OVERSOLD) & \n",
    "           (df['%K'] > df['%D']), 'Signal'] = 1\n",
    "\n",
    "    # Sell signals: RSI in overbought and %K below %D in overbought region\n",
    "    df.loc[(df['RSI'] > RSI_OVERBOUGHT) & \n",
    "           (df['%K'] > STOCH_OVERBOUGHT) & \n",
    "           (df['%K'] < df['%D']), 'Signal'] = -1\n",
    "\n",
    "    return df\n"
   ]
  },
  {
   "cell_type": "code",
   "execution_count": 28,
   "id": "2e0144d0-522b-49c0-8743-12217c91e6ad",
   "metadata": {},
   "outputs": [],
   "source": [
    "def backtest_strategy(df, initial_balance=160000000):\n",
    "    if df.empty:\n",
    "        return df\n",
    "    \n",
    "    balance = initial_balance\n",
    "    shares = 0\n",
    "    df['Portfolio Value'] = balance\n",
    "    df['Shares'] = 0\n",
    "\n",
    "\n",
    "    for i in range(1, len(df)):\n",
    "        if df['Signal'].iloc[i] == 1:  # Buy signal\n",
    "            if balance > 0: \n",
    "                shares_to_buy = balance // df['close'].iloc[i]\n",
    "                balance -= shares_to_buy * df['close'].iloc[i]\n",
    "                shares += shares_to_buy\n",
    "\n",
    "\n",
    "        elif df['Signal'].iloc[i] == -1 and shares > 0:  # Sell signal\n",
    "            balance += shares * df['close'].iloc[i]\n",
    "            shares = 0\n",
    "\n",
    "        df.loc[i, 'Portfolio Value'] = balance + shares * df['close'].iloc[i]\n",
    "        df.loc[i, 'Shares'] = shares\n",
    "\n",
    "    df.loc[len(df) - 1, 'Portfolio Value'] = balance + shares * df['close'].iloc[-1]\n",
    "\n",
    "    return df"
   ]
  },
  {
   "cell_type": "code",
   "execution_count": 29,
   "id": "6726f8c8-aa43-4f91-a36d-55c4530d1576",
   "metadata": {},
   "outputs": [],
   "source": [
    "def calculate_profit_total(df, initial_balance=160000000):\n",
    "    if df.empty:\n",
    "        return 0\n",
    "    final_balance = df['Portfolio Value'].iloc[-1] \n",
    "    total_change = ((final_balance - initial_balance)/initial_balance) * 100\n",
    "    return total_change\n"
   ]
  },
  {
   "cell_type": "code",
   "execution_count": 30,
   "id": "838b85d6-5ea4-4acd-bf19-6230cd611fbf",
   "metadata": {
    "scrolled": true
   },
   "outputs": [],
   "source": [
    "def test_company(symbol, start_date, end_date, resolution='1D', type='stock'):\n",
    "    df = vn.stock_historical_data(symbol=symbol, \n",
    "                            start_date=start_date, \n",
    "                            end_date=end_date, resolution=resolution, type=type)\n",
    "    if df.empty:\n",
    "        return 0 \n",
    "    df = calculate_indicators(df)\n",
    "    df = generate_signals(df)\n",
    "    df = backtest_strategy(df)\n",
    "    total_profit_change = calculate_profit_total(df, initial_balance=160000000)\n",
    "        \n",
    "    return total_profit_change"
   ]
  },
  {
   "cell_type": "code",
   "execution_count": 31,
   "id": "b3b35c69-7857-4533-a8a6-31d8205b720d",
   "metadata": {},
   "outputs": [],
   "source": [
    "START_DATE = '2021-01-01'\n",
    "END_DATE = '2024-01-01'"
   ]
  },
  {
   "cell_type": "code",
   "execution_count": 32,
   "id": "744b2c4a-01fc-4d71-8d79-b3721dd690c9",
   "metadata": {},
   "outputs": [],
   "source": [
    "profit_all = {}\n",
    "\n",
    "for company in companies:\n",
    "    try:\n",
    "        company_data_all = test_company(company, start_date=START_DATE, end_date=END_DATE, resolution='1D', type='stock')\n",
    "       \n",
    "        # Update dictionaries\n",
    "        profit_all[company] = company_data_all\n",
    "\n",
    "    except Exception as e:\n",
    "        print(f\"Error occurred for {company}: {e}\")"
   ]
  },
  {
   "cell_type": "code",
   "execution_count": 33,
   "id": "2f836398",
   "metadata": {},
   "outputs": [],
   "source": [
    "profit_all_df = pd.DataFrame.from_dict(profit_all, orient='index', columns=['Profit During all period']).reset_index()\n",
    "final_result = profit_all_df.rename(columns={'index': 'Company'})\n",
    "final_result.to_csv('result/rsi_storch.csv', index=False)"
   ]
  }
 ],
 "metadata": {
  "kernelspec": {
   "display_name": "Python 3 (ipykernel)",
   "language": "python",
   "name": "python3"
  },
  "language_info": {
   "codemirror_mode": {
    "name": "ipython",
    "version": 3
   },
   "file_extension": ".py",
   "mimetype": "text/x-python",
   "name": "python",
   "nbconvert_exporter": "python",
   "pygments_lexer": "ipython3",
   "version": "3.12.4"
  }
 },
 "nbformat": 4,
 "nbformat_minor": 5
}
