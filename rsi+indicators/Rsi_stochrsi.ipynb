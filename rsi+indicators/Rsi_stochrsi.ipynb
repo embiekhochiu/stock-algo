{
 "cells": [
  {
   "cell_type": "code",
   "execution_count": 4,
   "id": "62fef4e6",
   "metadata": {},
   "outputs": [],
   "source": [
    "import vnstock as vn\n",
    "import ta\n",
    "import pandas as pd\n",
    "import matplotlib.pyplot as plt"
   ]
  },
  {
   "cell_type": "code",
   "execution_count": 5,
   "id": "221cdd11-4dd9-4764-850d-ae48bb6db8d0",
   "metadata": {},
   "outputs": [],
   "source": [
    "# Parameters\n",
    "RSI_PERIOD = 14\n",
    "STOCH_RSI_PERIOD = 14\n",
    "RSI_OVERSOLD = 30\n",
    "RSI_OVERBOUGHT = 70\n",
    "STOCH_RSI_OVERBOUGHT = 0.8\n",
    "STOCH_RSI_OVERSOLD = 0.2\n",
    "initial_investment = 160_000_000"
   ]
  },
  {
   "cell_type": "code",
   "execution_count": 6,
   "id": "27a8a10f-bd9e-4634-8a6f-6f4244452d77",
   "metadata": {},
   "outputs": [],
   "source": [
    "def calculate_indicators(df):\n",
    "    if df.empty:\n",
    "        return df\n",
    "    \n",
    "    # Calculate RSI\n",
    "    rsi = ta.momentum.RSIIndicator(df['close'], RSI_PERIOD)\n",
    "    df['RSI'] = rsi.rsi()\n",
    "    \n",
    "    # Calculate Stochastic RSI\n",
    "    stoch_rsi = ta.momentum.StochRSIIndicator(df['close'], STOCH_RSI_PERIOD)\n",
    "    df['Stoch_RSI'] = stoch_rsi.stochrsi()\n",
    "    df['Stoch_RSI_Signal'] = stoch_rsi.stochrsi_d()\n",
    "    \n",
    "    df = df.dropna().reset_index(drop=True)\n",
    "    \n",
    "    return df"
   ]
  },
  {
   "cell_type": "code",
   "execution_count": 7,
   "id": "5609c22d-037b-4a77-b3c4-25420e09ef4b",
   "metadata": {},
   "outputs": [],
   "source": [
    "def generate_signals(df):\n",
    "    if df.empty:\n",
    "        return df\n",
    "    \n",
    "    # Initialize Signal column\n",
    "    df['Signal'] = 0\n",
    "\n",
    "    # Define constants\n",
    "    RSI_OVERSOLD = 30\n",
    "    RSI_OVERBOUGHT = 70\n",
    "    STOCH_RSI_OVERSOLD = 0.2\n",
    "    STOCH_RSI_OVERBOUGHT = 0.8\n",
    "\n",
    "    # Buy signals: RSI exits oversold and Stoch RSI crosses above 0.2\n",
    "    df.loc[(df['RSI'].shift(1) < RSI_OVERSOLD) & (df['RSI'] >= RSI_OVERSOLD) &\n",
    "           (df['Stoch_RSI'].shift(1) < STOCH_RSI_OVERSOLD) & (df['Stoch_RSI'] >= STOCH_RSI_OVERSOLD), 'Signal'] = 1\n",
    "\n",
    "    # Sell signals: RSI exits overbought and Stoch RSI crosses below 0.8\n",
    "    df.loc[(df['RSI'].shift(1) > RSI_OVERBOUGHT) & (df['RSI'] <= RSI_OVERBOUGHT) &\n",
    "           (df['Stoch_RSI'].shift(1) > STOCH_RSI_OVERBOUGHT) & (df['Stoch_RSI'] <= STOCH_RSI_OVERBOUGHT), 'Signal'] = -1\n",
    "\n",
    "    return df"
   ]
  },
  {
   "cell_type": "code",
   "execution_count": 8,
   "id": "d2914841-5aa5-4c26-89d9-8d0b65303587",
   "metadata": {},
   "outputs": [],
   "source": [
    "companies = [\n",
    "    'SSI', 'BCM','VHM','VIC','VRE','BVH','POW','GAS','ACB','BID',\n",
    "'CTG','HDB','MBB','SSB','SHB','STB','TCB','TPB','VCB','VIB','VPB','HPG',\n",
    "'GVR','MSN','VNM','SAB','VJC','MWG','PLX','FPT']"
   ]
  },
  {
   "cell_type": "code",
   "execution_count": 9,
   "id": "b76049c8",
   "metadata": {},
   "outputs": [],
   "source": [
    "def calculate_profit_total(df, initial_balance=160000000):\n",
    "    if df.empty:\n",
    "        return 0\n",
    "    final_balance = df['Portfolio Value'].iloc[-1] \n",
    "    total_change = ((final_balance - initial_balance)/initial_balance) * 100\n",
    "    return total_change"
   ]
  },
  {
   "cell_type": "code",
   "execution_count": 10,
   "id": "c4059286",
   "metadata": {},
   "outputs": [],
   "source": [
    "def backtest_strategy(df, initial_balance=160000000):\n",
    "    if df.empty:\n",
    "        return df\n",
    "    \n",
    "    balance = initial_balance\n",
    "    shares = 0\n",
    "    df['Portfolio Value'] = balance\n",
    "    df['Shares'] = 0\n",
    "\n",
    "\n",
    "    for i in range(1, len(df)):\n",
    "        if df['Signal'].iloc[i] == 1:  # Buy signal\n",
    "            if balance > 0: \n",
    "                shares_to_buy = balance // df['close'].iloc[i]\n",
    "                balance -= shares_to_buy * df['close'].iloc[i]\n",
    "                shares += shares_to_buy\n",
    "\n",
    "\n",
    "        elif df['Signal'].iloc[i] == -1 and shares > 0:  # Sell signal\n",
    "            balance += shares * df['close'].iloc[i]\n",
    "            shares = 0\n",
    "\n",
    "        df.loc[i, 'Portfolio Value'] = balance + shares * df['close'].iloc[i]\n",
    "        df.loc[i, 'Shares'] = shares\n",
    "\n",
    "    df.loc[len(df) - 1, 'Portfolio Value'] = balance + shares * df['close'].iloc[-1]\n",
    "\n",
    "    return df"
   ]
  },
  {
   "cell_type": "code",
   "execution_count": 11,
   "id": "763d63ff-8fb4-4296-a821-5641d191912f",
   "metadata": {},
   "outputs": [],
   "source": [
    "def test_company(symbol, start_date, end_date, resolution='1D', type='stock'):\n",
    "    df = vn.stock_historical_data(symbol=symbol, \n",
    "                            start_date=start_date, \n",
    "                            end_date=end_date, resolution=resolution, type=type)\n",
    "    if df.empty:\n",
    "        return 0 \n",
    "    df = calculate_indicators(df)\n",
    "    df = generate_signals(df)\n",
    "    df = backtest_strategy(df)\n",
    "    total_profit_change = calculate_profit_total(df, initial_balance=160000000)\n",
    "        \n",
    "    return total_profit_change"
   ]
  },
  {
   "cell_type": "code",
   "execution_count": 12,
   "id": "674f0ab3",
   "metadata": {},
   "outputs": [],
   "source": [
    "START_DATE = '2021-01-01'\n",
    "END_DATE = '2024-01-01'"
   ]
  },
  {
   "cell_type": "code",
   "execution_count": 13,
   "id": "db24b9a6",
   "metadata": {},
   "outputs": [],
   "source": [
    "profit_all = {}\n",
    "\n",
    "for company in companies:\n",
    "    try:\n",
    "        company_data_all = test_company(company, start_date=START_DATE, end_date=END_DATE, resolution='1D', type='stock')\n",
    "       \n",
    "        # Update dictionaries\n",
    "        profit_all[company] = company_data_all\n",
    "\n",
    "    except Exception as e:\n",
    "        print(f\"Error occurred for {company}: {e}\")"
   ]
  },
  {
   "cell_type": "code",
   "execution_count": 14,
   "id": "fd924c6d",
   "metadata": {},
   "outputs": [],
   "source": [
    "profit_all_df = pd.DataFrame.from_dict(profit_all, orient='index', columns=['Profit During all period']).reset_index()\n",
    "final_result = profit_all_df.rename(columns={'index': 'Company'})\n",
    "final_result.to_csv('result/rsi_storch_rsi.csv', index=False)"
   ]
  }
 ],
 "metadata": {
  "kernelspec": {
   "display_name": "Python 3 (ipykernel)",
   "language": "python",
   "name": "python3"
  },
  "language_info": {
   "codemirror_mode": {
    "name": "ipython",
    "version": 3
   },
   "file_extension": ".py",
   "mimetype": "text/x-python",
   "name": "python",
   "nbconvert_exporter": "python",
   "pygments_lexer": "ipython3",
   "version": "3.12.4"
  }
 },
 "nbformat": 4,
 "nbformat_minor": 5
}
